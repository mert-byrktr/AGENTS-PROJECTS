{
 "cells": [
  {
   "cell_type": "markdown",
   "metadata": {},
   "source": [
    "We're going to build a simple Agent system for generating cold sales outreach emails:\n",
    "\n",
    "1. Agent workflow\n",
    "\n",
    "2. Use of tools to call functions\n",
    "\n",
    "3. Agent collaboration via Tools and Handoffs"
   ]
  },
  {
   "cell_type": "code",
   "execution_count": 7,
   "metadata": {},
   "outputs": [],
   "source": [
    "from dotenv import load_dotenv\n",
    "from agents import Agent, Runner, trace, function_tool\n",
    "from openai.types.responses import ResponseTextDeltaEvent\n",
    "from typing import Dict\n",
    "import os\n",
    "import asyncio\n"
   ]
  },
  {
   "cell_type": "code",
   "execution_count": 2,
   "metadata": {},
   "outputs": [
    {
     "data": {
      "text/plain": [
       "True"
      ]
     },
     "execution_count": 2,
     "metadata": {},
     "output_type": "execute_result"
    }
   ],
   "source": [
    "load_dotenv(override=True)"
   ]
  },
  {
   "cell_type": "code",
   "execution_count": 3,
   "metadata": {},
   "outputs": [],
   "source": [
    "instructions1 = \"You are a news reporter working for English Premier League, \\\n",
    "    You write professional, serious news from 2024/2025 season.\"\n",
    "instructions2 = \"You are a humorous, engaging news reporter working for English Premier League, \\\n",
    "    You write witty, engaging news that are likely to get a response from 2024/2025 season.\"\n",
    "instructions3 = \"You are a busy news reporter working for English Premier League, \\\n",
    "    You write concise, to the point news.\""
   ]
  },
  {
   "cell_type": "code",
   "execution_count": 4,
   "metadata": {},
   "outputs": [],
   "source": [
    "news_agent1 = Agent(\n",
    "        name=\"Professional News Reporter\",\n",
    "        instructions=instructions1,\n",
    "        model=\"gpt-4o-mini\"\n",
    ")\n",
    "\n",
    "news_agent2 = Agent(\n",
    "        name=\"Engaging News Reporter\",\n",
    "        instructions=instructions2,\n",
    "        model=\"gpt-4o-mini\"\n",
    ")\n",
    "\n",
    "news_agent3 = Agent(\n",
    "        name=\"Busy News Reporter\",\n",
    "        instructions=instructions3,\n",
    "        model=\"gpt-4o-mini\"\n",
    ")\n"
   ]
  },
  {
   "cell_type": "code",
   "execution_count": 5,
   "metadata": {},
   "outputs": [
    {
     "name": "stdout",
     "output_type": "stream",
     "text": [
      "**Premier League Update: October 2024** \n",
      "\n",
      "In a thrilling weekend of action across the English Premier League, Manchester City reaffirmed their status as title contenders with a decisive 4-1 victory over Arsenal at the Etihad Stadium. A hat-trick from Erling Haaland, coupled with a stunning long-range effort from Phil Foden, showcased City's attacking prowess, leaving Arsenal searching for answers.\n",
      "\n",
      "Meanwhile, Liverpool produced a late comeback against Chelsea at Anfield, with Mohamed Salah scoring a dramatic equalizer in the dying minutes after Chelsea had taken a 2-1 lead. The match solidified Liverpool’s position among the top four, while Chelsea continues to struggle for consistent form under manager Mauricio Pochettino.\n",
      "\n",
      "In other results, Newcastle United maintained their strong start to the season with a 3-0 win against Wolverhampton Wanderers. The Magpies have climbed to third in the table, with standout performances from summer signings and a solid defensive display spearheaded by captain Kieran Trippier.\n",
      "\n",
      "Tottenham Hotspur struggled at home against a resilient Brighton & Hove Albion, managing only a 1-1 draw that raises further questions about their ability to challenge for European qualification this season. \n",
      "\n",
      "In the relegation battle, Sheffield United earned a crucial three points against Luton Town, shutting out their rivals in a 2-0 victory that lifted them out of the bottom three.\n",
      "\n",
      "Looking ahead, next weekend promises to be intense as Manchester United face Everton at Old Trafford in a match with significant implications as both teams look to push into higher standings. \n",
      "\n",
      "As the season progresses, the race for the Premier League title appears tighter than ever, with several clubs in the hunt for glory as they enter the busy festive period. The upcoming international break will provide teams a chance to recalibrate before resuming their quest for points and position in the table. \n",
      "\n",
      "Stay tuned for more updates as the Premier League season unfolds."
     ]
    }
   ],
   "source": [
    "result = Runner.run_streamed(news_agent1, input=\"Write a news from English Premier League 2024/2025 season.\")\n",
    "async for event in result.stream_events():\n",
    "    if event.type == \"raw_response_event\" and isinstance(event.data, ResponseTextDeltaEvent):\n",
    "        print(event.data.delta, end=\"\", flush=True)"
   ]
  },
  {
   "cell_type": "code",
   "execution_count": 8,
   "metadata": {},
   "outputs": [
    {
     "name": "stdout",
     "output_type": "stream",
     "text": [
      "**English Premier League Update: Week 10 Highlights**\n",
      "\n",
      "*London, October 15, 2024* – The English Premier League saw thrilling action this past weekend as Week 10 delivered unforgettable moments and crucial results that could shape the title race.\n",
      "\n",
      "**Manchester City vs. Arsenal**\n",
      "\n",
      "In a highly anticipated clash at the Etihad Stadium, Manchester City edged out Arsenal with a narrow 2-1 victory. City’s Erling Haaland continued his prolific form, scoring both goals for the home side, bringing his tally to 12 for the season. Arsenal's late response came through Bukayo Saka, who found the net in the 78th minute, adding intrigue to the closing stages. This result keeps City firmly in contention for the title as they sit just two points behind leaders Liverpool.\n",
      "\n",
      "**Liverpool Maintains Top Spot**\n",
      "\n",
      "Liverpool remains unbeaten after a commanding 3-0 victory over West Ham United at Anfield. Mohamed Salah was once again pivotal for the Reds, scoring two goals and providing an assist. Manager Jürgen Klopp praised his players for their attacking flair, stating, “We are in a good rhythm, and the confidence is high. We need to maintain this momentum as we push for the championship.”\n",
      "\n",
      "**Chelsea Stumbles Again**\n",
      "\n",
      "Chelsea’s struggles continued as they fell to a 1-0 defeat against Newcastle United at St. James’ Park. A solitary goal from Callum Wilson proved decisive, leaving Chelsea languishing in mid-table. Manager Mauricio Pochettino acknowledged the need for improvement as he faces mounting pressure, stating, “We need to find our identity quickly. Every point is crucial at this stage.”\n",
      "\n",
      "**Key Injuries Impacting Teams**\n",
      "\n",
      "In a worrying trend, several teams are grappling with key injuries. Tottenham Hotspur will be without star midfielder James Maddison for the next six weeks due to a hamstring strain. Meanwhile, Manchester United is also feeling the pinch as their captain, Bruno Fernandes, is sidelined with an ankle injury, prompting concerns about their consistency moving forward.\n",
      "\n",
      "**Upcoming Fixtures**\n",
      "\n",
      "Looking ahead, the next round of fixtures promises more excitement. Notably, Arsenal will host Manchester United in what could prove to be a pivotal match in their respective campaigns. Both teams are desperate for points as they vie for European competition spots.\n",
      "\n",
      "As the 2024/2025 Premier League season progresses, the battle for the title and the fight to avoid relegation intensifies, ensuring fans have much to look forward to in the weeks ahead.\n",
      "\n",
      "\n",
      "**EPIC SHOWDOWN: THE CATS AND THE CARNIVORES CLASH IN A NAIL-BITING DERBY!**\n",
      "\n",
      "*London, October 15, 2024* – Grab your catnip and your steak, folks—the Premier League's most anticipated clash is finally upon us as Chelsea's “Blue Kittens” take on Liverpool's “Red Raptors” this Sunday!\n",
      "\n",
      "In a game that promises to be as thrilling as a cat chasing a laser pointer, both teams are looking to pounce and claw their way to the top of the table. Chelsea, currently soaking up the vibes of a six-game winning streak, have finally found their purr-fect rhythm under manager Feline Flint. After a few months of dabbling with disastrous results, it seems he has worked some magic to get the team purring again!\n",
      "\n",
      "On the other side of the pitch, Liverpool has found success in their new recruit, “Bobby the Beast” McBarkley, who, after a summer training camp with actual raptors (don’t ask), has transformed into a goal-scoring machine with a predilection for scoring from bizarre angles. Rumor has it that he’s been practicing with a parrot for advice on how to ‘squawk’ through defenders. \n",
      "\n",
      "The banter leading up to the match has been as fierce as a dog fighting with a squirrel over a stick. Liverpool fans have been taunting the Chelsea supporters, claiming they’ll “kibble their kittens.” Meanwhile, the Chelsea faithful are confident that their meowing chants will drown out the sound of Liverpool’s song, “You’ll Never Walk Alone.” \n",
      "\n",
      "But that’s not all! The match has generated an unusual amount of buzz due to a quirky sponsorship deal—a local pet store has offered free cat toys for anyone who can guess the final score accurately. Will fans be raking in the treats, or will it turn into a cat-astrophe? Only time will tell!\n",
      "\n",
      "Kickoff is set for 3 PM at Stamford Bridge, where tensions will be as palpable as the scent of popcorn wafting through the stands. Be sure to tune in, because you won’t want to miss the fur-flying action—unless you have an aversion to high-stakes football and furry cuddles!\n",
      "\n",
      "Get ready to witness the most epic showdown of the season, where the real winners are the fans (and those free cat toys). This is one match where you might just want to bring a feline friend along for the fun!\n",
      "\n",
      "\n",
      "**Premier League Roundup: Matchweek 5 Highlights**\n",
      "\n",
      "In a thrilling Matchweek 5 of the 2024/2025 Premier League season, defending champions Manchester City secured a dominant 4-1 victory over Aston Villa, with Erling Haaland netting a hat-trick. Liverpool continued their unbeaten run, defeating Crystal Palace 2-0, while Chelsea edged past Bournemouth with a late goal from Raheem Sterling.\n",
      "\n",
      "Arsenal showcased impressive form, besting Sheffield United 3-1, keeping them in contention at the top of the table. Manchester United struggled, settling for a 1-1 draw against Brentford despite dominating possession.\n",
      "\n",
      "Tottenham's comeback against Newcastle highlighted the weekend, with Son Heung-min scoring a last-minute winner, securing a 2-1 victory.\n",
      "\n",
      "As the season heats up, the title race tightens, with only three points separating the top four teams. Fans eagerly anticipate next week’s fixtures, where rivals clash and key points are up for grabs.\n",
      "\n",
      "\n"
     ]
    }
   ],
   "source": [
    "message = \"Write a news from English Premier League 2024/2025 season.\"\n",
    "\n",
    "with trace(\"Parallel news from EPL 2024/2025 season.\"):\n",
    "    results = await asyncio.gather(\n",
    "        Runner.run(news_agent1, message),\n",
    "        Runner.run(news_agent2, message),\n",
    "        Runner.run(news_agent3, message),\n",
    "    )\n",
    "\n",
    "outputs = [result.final_output for result in results]\n",
    "\n",
    "for output in outputs:\n",
    "    print(output + \"\\n\\n\")"
   ]
  },
  {
   "cell_type": "code",
   "execution_count": null,
   "metadata": {},
   "outputs": [],
   "source": [
    "news_picker = Agent(\n",
    "    name=\"news_picker\",\n",
    "    instructions=\"You pick the best news from the given options. \\\n",
    "        Imagine you are a customer and pick the one you are most likely to read to. \\\n",
    "        Do not give an explanation; reply with the selected news only.\\\n",
    "        Do not write just the title, provide the full news\",\n",
    "    model=\"gpt-4o-mini\"\n",
    ")"
   ]
  },
  {
   "cell_type": "code",
   "execution_count": 14,
   "metadata": {},
   "outputs": [
    {
     "data": {
      "text/plain": [
       "agents.agent.Agent"
      ]
     },
     "execution_count": 14,
     "metadata": {},
     "output_type": "execute_result"
    }
   ],
   "source": [
    "type(news_picker)"
   ]
  },
  {
   "cell_type": "code",
   "execution_count": 15,
   "metadata": {},
   "outputs": [
    {
     "name": "stdout",
     "output_type": "stream",
     "text": [
      "Best news reports:\n",
      "**Early Season Surprises Shake Up Premier League Contenders**\n",
      "\n",
      "As the 2024/2025 Premier League season enters its second month, the race for the title is shaping up to be one of the most unpredictable in recent memory. Early fixtures have not only delivered thrilling matches but have also placed several teams in unexpected positions on the table.\n",
      "\n",
      "**Tactical Innovations and Standout Performances**\n",
      "\n",
      "One of the standout stories of the season has been the tactical acumen displayed by newly appointed managers across multiple clubs. Liverpool, under the guidance of José Mourinho, is showcasing a blend of attacking flair and defensive solidity that has seen them remain unbeaten in their first eight matches. Their latest victory—a convincing 3-1 win against Chelsea—demonstrated Mourinho’s strategic prowess as they transitioned effectively from defense to attack.\n",
      "\n",
      "Meanwhile, Arsenal, led by emerging talent manager Emma Hayes, has taken the league by storm, currently sitting second. The Gunners have adopted a high-pressing style that has overwhelmed opponents, with star forward Bukayo Saka leading the charge, already tallying seven goals this season.\n",
      "\n",
      "**Surprises and Struggles**\n",
      "\n",
      "On the other side of the table, Manchester City has endured a challenging start to the season. Pep Guardiola's side, expected to be title favorites, find themselves languishing in mid-table following a string of unexpected draws and a shocking 1-0 defeat at the hands of promoted side Burnley. Critics are questioning Guardiola's rotation policy and whether it has affected player performance and team chemistry.\n",
      "\n",
      "West Ham, on the opposite end of the spectrum, has experienced a resurgence under manager David Moyes. With energetic play and an emphasis on midfield control, the Hammers are currently in contention for a European spot. Jarrod Bowen and new signing Mohammed Kudus have formed a potent partnership, turning heads with their goal-scoring and assists.\n",
      "\n",
      "**Injury Concerns and Transfers**\n",
      "\n",
      "Injury woes continue to plague several clubs. Manchester United is grappling with the absence of key players, including Bruno Fernandes, who is sidelined for several weeks due to a hamstring injury. The Red Devils have struggled to maintain momentum, and manager Erik ten Hag faces pressure to find solutions amid adversity.\n",
      "\n",
      "With the January transfer window inching closer, speculation is rampant regarding potential signings and departures. Clubs in need of reinforcements will likely be active, as they look to solidify their positions before the season intensifies.\n",
      "\n",
      "**Looking Ahead**\n",
      "\n",
      "The upcoming fixtures promise more drama, with critical matchups on the horizon. Fans eagerly await the clash between top rivals Liverpool and Manchester United, set to take place in just a few weeks, which could prove pivotal in the battle for the title.\n",
      "\n",
      "As the 2024/2025 season unfolds, one thing is certain: unpredictability remains the hallmark of the English Premier League, keeping fans on the edge of their seats as the fight for glory continues.\n"
     ]
    }
   ],
   "source": [
    "message = \"Write a news from English Premier League 2024/2025 season.\"\n",
    "\n",
    "with trace(\"Selection from news reporters\"):\n",
    "    results = await asyncio.gather(\n",
    "        Runner.run(news_agent1, message),\n",
    "        Runner.run(news_agent2, message),\n",
    "        Runner.run(news_agent3, message),\n",
    "    )\n",
    "\n",
    "    outputs = [result.final_output for result in results]\n",
    "\n",
    "    news = \"News reports from EPL 2024/2025 season:\\n\\n\".join(outputs)\n",
    "\n",
    "    best = await Runner.run(news_picker, news)\n",
    "\n",
    "    print(f\"Best news reports:\\n{best.final_output}\")\n"
   ]
  },
  {
   "cell_type": "markdown",
   "metadata": {},
   "source": [
    "Now go and check out the trace:\n",
    "\n",
    "https://platform.openai.com/traces"
   ]
  },
  {
   "cell_type": "markdown",
   "metadata": {},
   "source": [
    "### Part 2: use of tools"
   ]
  },
  {
   "cell_type": "code",
   "execution_count": 16,
   "metadata": {},
   "outputs": [],
   "source": [
    "news_agent1 = Agent(\n",
    "        name=\"Professional News Reporter\",\n",
    "        instructions=instructions1,\n",
    "        model=\"gpt-4o-mini\"\n",
    ")\n",
    "\n",
    "news_agent2 = Agent(\n",
    "        name=\"Engaging News Reporter\",\n",
    "        instructions=instructions2,\n",
    "        model=\"gpt-4o-mini\"\n",
    ")\n",
    "\n",
    "news_agent3 = Agent(\n",
    "        name=\"Busy News Reporter\",\n",
    "        instructions=instructions3,\n",
    "        model=\"gpt-4o-mini\"\n",
    ")\n"
   ]
  },
  {
   "cell_type": "code",
   "execution_count": 17,
   "metadata": {},
   "outputs": [
    {
     "data": {
      "text/plain": [
       "Agent(name='Professional News Reporter', instructions='You are a news reporter working for English Premier League,     You write professional, serious news from 2024/2025 season.', handoff_description=None, handoffs=[], model='gpt-4o-mini', model_settings=ModelSettings(temperature=None, top_p=None, frequency_penalty=None, presence_penalty=None, tool_choice=None, parallel_tool_calls=None, truncation=None, max_tokens=None, reasoning=None, metadata=None, store=None, include_usage=None, extra_query=None, extra_body=None, extra_headers=None), tools=[], mcp_servers=[], mcp_config={}, input_guardrails=[], output_guardrails=[], output_type=None, hooks=None, tool_use_behavior='run_llm_again', reset_tool_choice=True)"
      ]
     },
     "execution_count": 17,
     "metadata": {},
     "output_type": "execute_result"
    }
   ],
   "source": [
    "news_agent1"
   ]
  },
  {
   "cell_type": "markdown",
   "metadata": {},
   "source": [
    "### Steps 2 and 3: Tools and Agent interactions"
   ]
  },
  {
   "cell_type": "code",
   "execution_count": 19,
   "metadata": {},
   "outputs": [],
   "source": [
    "import requests"
   ]
  },
  {
   "cell_type": "code",
   "execution_count": 18,
   "metadata": {},
   "outputs": [],
   "source": [
    "telegram_bot_token = os.environ.get(\"TELEGRAM_BOT_TOKEN\")\n",
    "chat_id = os.environ.get(\"TELEGRAM_CHAT_ID\")"
   ]
  },
  {
   "cell_type": "code",
   "execution_count": 21,
   "metadata": {},
   "outputs": [],
   "source": [
    "@function_tool\n",
    "def send_telegram_message(body: str):\n",
    "    \"\"\" Send a message with the given body to all readers. \"\"\"\n",
    "    url = f\"https://api.telegram.org/bot{telegram_bot_token}/sendMessage\"\n",
    "    payload = {\"chat_id\": chat_id, \"text\": body}\n",
    "    try:\n",
    "        response = requests.post(url, data=payload)\n",
    "        if response.status_code == 200:\n",
    "            print(\"Notification sent successfully!\")\n",
    "        else:\n",
    "            print(\"Failed to send the message:\", response.text)\n",
    "    except Exception as e:\n",
    "        print(\"Error sending Telegram message:\", e)"
   ]
  },
  {
   "cell_type": "markdown",
   "metadata": {},
   "source": [
    "This has automatically been converted into a tool, with the boilerplate json created"
   ]
  },
  {
   "cell_type": "code",
   "execution_count": 22,
   "metadata": {},
   "outputs": [
    {
     "data": {
      "text/plain": [
       "FunctionTool(name='send_telegram_message', description='Send a message with the given body to all readers.', params_json_schema={'properties': {'body': {'title': 'Body', 'type': 'string'}}, 'required': ['body'], 'title': 'send_telegram_message_args', 'type': 'object', 'additionalProperties': False}, on_invoke_tool=<function function_tool.<locals>._create_function_tool.<locals>._on_invoke_tool at 0x0000019006D87F60>, strict_json_schema=True)"
      ]
     },
     "execution_count": 22,
     "metadata": {},
     "output_type": "execute_result"
    }
   ],
   "source": [
    "send_telegram_message"
   ]
  },
  {
   "cell_type": "markdown",
   "metadata": {},
   "source": [
    "And you can also convert an Agent into a tool\n"
   ]
  },
  {
   "cell_type": "code",
   "execution_count": 23,
   "metadata": {},
   "outputs": [
    {
     "data": {
      "text/plain": [
       "FunctionTool(name='news_agent1', description='Write a news from English Premier League 2024/2025 season.', params_json_schema={'properties': {'input': {'title': 'Input', 'type': 'string'}}, 'required': ['input'], 'title': 'news_agent1_args', 'type': 'object', 'additionalProperties': False}, on_invoke_tool=<function function_tool.<locals>._create_function_tool.<locals>._on_invoke_tool at 0x0000019008DCEF20>, strict_json_schema=True)"
      ]
     },
     "execution_count": 23,
     "metadata": {},
     "output_type": "execute_result"
    }
   ],
   "source": [
    "tool1 = news_agent1.as_tool(tool_name=\"news_agent1\", tool_description=\"Write a news from English Premier League 2024/2025 season.\")\n",
    "tool1"
   ]
  },
  {
   "cell_type": "code",
   "execution_count": 25,
   "metadata": {},
   "outputs": [
    {
     "data": {
      "text/plain": [
       "[FunctionTool(name='news_agent1', description='Write a news from English Premier League 2024/2025 season.', params_json_schema={'properties': {'input': {'title': 'Input', 'type': 'string'}}, 'required': ['input'], 'title': 'news_agent1_args', 'type': 'object', 'additionalProperties': False}, on_invoke_tool=<function function_tool.<locals>._create_function_tool.<locals>._on_invoke_tool at 0x0000019008DCF240>, strict_json_schema=True),\n",
       " FunctionTool(name='news_agent2', description='Write a news from English Premier League 2024/2025 season.', params_json_schema={'properties': {'input': {'title': 'Input', 'type': 'string'}}, 'required': ['input'], 'title': 'news_agent2_args', 'type': 'object', 'additionalProperties': False}, on_invoke_tool=<function function_tool.<locals>._create_function_tool.<locals>._on_invoke_tool at 0x0000019008DCC9A0>, strict_json_schema=True),\n",
       " FunctionTool(name='news_agent3', description='Write a news from English Premier League 2024/2025 season.', params_json_schema={'properties': {'input': {'title': 'Input', 'type': 'string'}}, 'required': ['input'], 'title': 'news_agent3_args', 'type': 'object', 'additionalProperties': False}, on_invoke_tool=<function function_tool.<locals>._create_function_tool.<locals>._on_invoke_tool at 0x0000019008DCD1C0>, strict_json_schema=True),\n",
       " FunctionTool(name='send_telegram_message', description='Send a message with the given body to all readers.', params_json_schema={'properties': {'body': {'title': 'Body', 'type': 'string'}}, 'required': ['body'], 'title': 'send_telegram_message_args', 'type': 'object', 'additionalProperties': False}, on_invoke_tool=<function function_tool.<locals>._create_function_tool.<locals>._on_invoke_tool at 0x0000019006D87F60>, strict_json_schema=True)]"
      ]
     },
     "execution_count": 25,
     "metadata": {},
     "output_type": "execute_result"
    }
   ],
   "source": [
    "description = \"Write a news from English Premier League 2024/2025 season.\"\n",
    "\n",
    "tool1 = news_agent1.as_tool(tool_name=\"news_agent1\", tool_description=\"Write a news from English Premier League 2024/2025 season.\")\n",
    "tool2 = news_agent2.as_tool(tool_name=\"news_agent2\", tool_description=\"Write a news from English Premier League 2024/2025 season.\")\n",
    "tool3 = news_agent3.as_tool(tool_name=\"news_agent3\", tool_description=\"Write a news from English Premier League 2024/2025 season.\")\n",
    "\n",
    "tools = [tool1, tool2, tool3, send_telegram_message]\n",
    "tools"
   ]
  },
  {
   "cell_type": "markdown",
   "metadata": {},
   "source": [
    "### And now it's time for our News Manager - our planning agent"
   ]
  },
  {
   "cell_type": "code",
   "execution_count": 26,
   "metadata": {},
   "outputs": [
    {
     "name": "stdout",
     "output_type": "stream",
     "text": [
      "Notification sent successfully!\n"
     ]
    }
   ],
   "source": [
    "instructions = \"You are a news manager for English Premier League. You use the tools given to you to generate news from English Premier League season 2024/2025. \\\n",
    "    You never generate news yourself; you always use the tools. \\\n",
    "    You try all 3 news_agent tools once before choosing the best one. \\\n",
    "    You pick the single best news and use the send_telegram_message tool to send the best message (and only the best message) to the user.\"\n",
    "\n",
    "news_manager = Agent(name=\"News manager\", instructions=instructions, tools=tools, model=\"gpt-4o-mini\")\n",
    "\n",
    "message = \"Write a news from English Premier League 2024/2025 season to 'Mert Bayraktar'\"\n",
    "\n",
    "with trace(\"News manager\"):\n",
    "    result = await Runner.run(news_manager, message)"
   ]
  },
  {
   "cell_type": "markdown",
   "metadata": {},
   "source": [
    "### Handoffs represent a way an agent can delegate to an agent, passing control to it\n",
    "\n",
    "Handoffs and Agents-as-tools are similar:\n",
    "\n",
    "In both cases, an Agent can collaborate with another Agent\n",
    "\n",
    "With tools, control passes back\n",
    "\n",
    "With handoffs, control passes across"
   ]
  },
  {
   "cell_type": "code",
   "execution_count": 32,
   "metadata": {},
   "outputs": [],
   "source": [
    "epl_instructions = \"You will criticise the given news according to a Liverpool fan.\"\n",
    "\n",
    "criticism_instructions = \"You will criticise the given news according to a Manchester United fan.\"\n",
    "\n",
    "epl_writer = Agent(name=\"EPL Writer\", instructions=epl_instructions, model=\"gpt-4o-mini\")\n",
    "epl_tool = epl_writer.as_tool(tool_name=\"epl_writer\", tool_description=\"Criticise the news from a Liverpool fan perspective\")\n",
    "\n",
    "criticism_agent = Agent(name=\"Criticism Agent\", instructions=criticism_instructions, model=\"gpt-4o-mini\")\n",
    "criticism_tool = criticism_agent.as_tool(tool_name=\"criticism_agent\",tool_description=\"Criticise the news from a Manchester United fan perspective\")\n"
   ]
  },
  {
   "cell_type": "code",
   "execution_count": 33,
   "metadata": {},
   "outputs": [],
   "source": [
    "@function_tool\n",
    "def send_telegram_message(body: str):\n",
    "    \"\"\" Send a message with the given body to all readers. \"\"\"\n",
    "    url = f\"https://api.telegram.org/bot{telegram_bot_token}/sendMessage\"\n",
    "    payload = {\"chat_id\": chat_id, \"text\": body}\n",
    "    try:\n",
    "        response = requests.post(url, data=payload)\n",
    "        if response.status_code == 200:\n",
    "            print(\"Notification sent successfully!\")\n",
    "        else:\n",
    "            print(\"Failed to send the message:\", response.text)\n",
    "    except Exception as e:\n",
    "        print(\"Error sending Telegram message:\", e)"
   ]
  },
  {
   "cell_type": "code",
   "execution_count": 34,
   "metadata": {},
   "outputs": [
    {
     "data": {
      "text/plain": [
       "[FunctionTool(name='epl_writer', description='Criticise the news from a Liverpool fan perspective', params_json_schema={'properties': {'input': {'title': 'Input', 'type': 'string'}}, 'required': ['input'], 'title': 'epl_writer_args', 'type': 'object', 'additionalProperties': False}, on_invoke_tool=<function function_tool.<locals>._create_function_tool.<locals>._on_invoke_tool at 0x0000019007A674C0>, strict_json_schema=True),\n",
       " FunctionTool(name='criticism_agent', description='Criticise the news from a Manchester United fan perspective', params_json_schema={'properties': {'input': {'title': 'Input', 'type': 'string'}}, 'required': ['input'], 'title': 'criticism_agent_args', 'type': 'object', 'additionalProperties': False}, on_invoke_tool=<function function_tool.<locals>._create_function_tool.<locals>._on_invoke_tool at 0x0000019007A64220>, strict_json_schema=True),\n",
       " FunctionTool(name='send_telegram_message', description='Send a message with the given body to all readers.', params_json_schema={'properties': {'body': {'title': 'Body', 'type': 'string'}}, 'required': ['body'], 'title': 'send_telegram_message_args', 'type': 'object', 'additionalProperties': False}, on_invoke_tool=<function function_tool.<locals>._create_function_tool.<locals>._on_invoke_tool at 0x0000019007A65620>, strict_json_schema=True)]"
      ]
     },
     "execution_count": 34,
     "metadata": {},
     "output_type": "execute_result"
    }
   ],
   "source": [
    "tools = [epl_tool, criticism_tool, send_telegram_message]\n",
    "tools"
   ]
  },
  {
   "cell_type": "code",
   "execution_count": 35,
   "metadata": {},
   "outputs": [],
   "source": [
    "instructions = \"You are a news writer and critic. You receive a message to write a news on. \\\n",
    "You first use the epl_writer tool to criticize it, then use the criticism _tool to criticize it. \\\n",
    "Finally, you use the send_telegram_message tool to send the message to the reader.\"\n",
    "\n",
    "telegram_agent = Agent(\n",
    "    name=\"telegram agent\",\n",
    "    instructions=instructions,\n",
    "    tools=tools,\n",
    "    model=\"gpt-4o-mini\",\n",
    "    handoff_description=\"Criticize the given news.\"\n",
    ")"
   ]
  },
  {
   "cell_type": "code",
   "execution_count": 36,
   "metadata": {},
   "outputs": [
    {
     "name": "stdout",
     "output_type": "stream",
     "text": [
      "[FunctionTool(name='news_agent1', description='Write a news from English Premier League 2024/2025 season.', params_json_schema={'properties': {'input': {'title': 'Input', 'type': 'string'}}, 'required': ['input'], 'title': 'news_agent1_args', 'type': 'object', 'additionalProperties': False}, on_invoke_tool=<function function_tool.<locals>._create_function_tool.<locals>._on_invoke_tool at 0x0000019008DCF240>, strict_json_schema=True), FunctionTool(name='news_agent2', description='Write a news from English Premier League 2024/2025 season.', params_json_schema={'properties': {'input': {'title': 'Input', 'type': 'string'}}, 'required': ['input'], 'title': 'news_agent2_args', 'type': 'object', 'additionalProperties': False}, on_invoke_tool=<function function_tool.<locals>._create_function_tool.<locals>._on_invoke_tool at 0x0000019008DCC9A0>, strict_json_schema=True), FunctionTool(name='news_agent3', description='Write a news from English Premier League 2024/2025 season.', params_json_schema={'properties': {'input': {'title': 'Input', 'type': 'string'}}, 'required': ['input'], 'title': 'news_agent3_args', 'type': 'object', 'additionalProperties': False}, on_invoke_tool=<function function_tool.<locals>._create_function_tool.<locals>._on_invoke_tool at 0x0000019008DCD1C0>, strict_json_schema=True)]\n",
      "[Agent(name='telegram agent', instructions='You are a news writer and critic. You receive a message to write a news on. You first use the epl_writer tool to criticize it, then use the criticism _tool to criticize it. Finally, you use the send_telegram_message tool to send the message to the reader.', handoff_description='Criticize the given news.', handoffs=[], model='gpt-4o-mini', model_settings=ModelSettings(temperature=None, top_p=None, frequency_penalty=None, presence_penalty=None, tool_choice=None, parallel_tool_calls=None, truncation=None, max_tokens=None, reasoning=None, metadata=None, store=None, include_usage=None, extra_query=None, extra_body=None, extra_headers=None), tools=[FunctionTool(name='epl_writer', description='Criticise the news from a Liverpool fan perspective', params_json_schema={'properties': {'input': {'title': 'Input', 'type': 'string'}}, 'required': ['input'], 'title': 'epl_writer_args', 'type': 'object', 'additionalProperties': False}, on_invoke_tool=<function function_tool.<locals>._create_function_tool.<locals>._on_invoke_tool at 0x0000019007A674C0>, strict_json_schema=True), FunctionTool(name='criticism_agent', description='Criticise the news from a Manchester United fan perspective', params_json_schema={'properties': {'input': {'title': 'Input', 'type': 'string'}}, 'required': ['input'], 'title': 'criticism_agent_args', 'type': 'object', 'additionalProperties': False}, on_invoke_tool=<function function_tool.<locals>._create_function_tool.<locals>._on_invoke_tool at 0x0000019007A64220>, strict_json_schema=True), FunctionTool(name='send_telegram_message', description='Send a message with the given body to all readers.', params_json_schema={'properties': {'body': {'title': 'Body', 'type': 'string'}}, 'required': ['body'], 'title': 'send_telegram_message_args', 'type': 'object', 'additionalProperties': False}, on_invoke_tool=<function function_tool.<locals>._create_function_tool.<locals>._on_invoke_tool at 0x0000019007A65620>, strict_json_schema=True)], mcp_servers=[], mcp_config={}, input_guardrails=[], output_guardrails=[], output_type=None, hooks=None, tool_use_behavior='run_llm_again', reset_tool_choice=True)]\n"
     ]
    }
   ],
   "source": [
    "tools = [tool1, tool2, tool3]\n",
    "handoffs = [telegram_agent]\n",
    "print(tools)\n",
    "print(handoffs)"
   ]
  },
  {
   "cell_type": "code",
   "execution_count": 38,
   "metadata": {},
   "outputs": [
    {
     "name": "stdout",
     "output_type": "stream",
     "text": [
      "Notification sent successfully!\n",
      "Notification sent successfully!\n",
      "Notification sent successfully!\n",
      "Notification sent successfully!\n"
     ]
    }
   ],
   "source": [
    "instructions = \"You are a news manager for English Premier League. You use the tools given to you to generate news from English Premier League season 2024/2025. \\\n",
    "    You never generate news yourself; you always use the tools. \\\n",
    "    You try all 3 news_agent tools once before choosing the best one. \\\n",
    "    You can use the tools multiple times if you're not satisfied with the results from the first try. \\\n",
    "    You select the single best news using your own judgement of which news will be most effective. \\\n",
    "    After picking the news, you handoff to the telegram agent to write and criticize the news.\"\n",
    "\n",
    "news_manager = Agent(name=\"News manager\",\n",
    "                    instructions=instructions,\n",
    "                    tools=tools, \n",
    "                    handoffs=handoffs, \n",
    "                    model=\"gpt-4o-mini\")\n",
    "\n",
    "message = \"Write a news from English Premier League 2024/2025 season to 'Mert Bayraktar'\"\n",
    "\n",
    "with trace(\"Critic\"):\n",
    "    result = await Runner.run(news_manager, message)"
   ]
  },
  {
   "cell_type": "code",
   "execution_count": null,
   "metadata": {},
   "outputs": [],
   "source": []
  }
 ],
 "metadata": {
  "kernelspec": {
   "display_name": ".venv",
   "language": "python",
   "name": "python3"
  },
  "language_info": {
   "codemirror_mode": {
    "name": "ipython",
    "version": 3
   },
   "file_extension": ".py",
   "mimetype": "text/x-python",
   "name": "python",
   "nbconvert_exporter": "python",
   "pygments_lexer": "ipython3",
   "version": "3.12.4"
  }
 },
 "nbformat": 4,
 "nbformat_minor": 2
}
