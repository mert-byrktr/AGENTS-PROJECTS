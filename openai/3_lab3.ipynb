{
 "cells": [
  {
   "cell_type": "code",
   "execution_count": 1,
   "metadata": {},
   "outputs": [],
   "source": [
    "from dotenv import load_dotenv\n",
    "from openai import AsyncOpenAI\n",
    "from agents import Agent, Runner, trace, function_tool, OpenAIChatCompletionsModel, input_guardrail, GuardrailFunctionOutput\n",
    "from typing import Dict\n",
    "import os\n",
    "from pydantic import BaseModel"
   ]
  },
  {
   "cell_type": "code",
   "execution_count": 2,
   "metadata": {},
   "outputs": [
    {
     "data": {
      "text/plain": [
       "True"
      ]
     },
     "execution_count": 2,
     "metadata": {},
     "output_type": "execute_result"
    }
   ],
   "source": [
    "load_dotenv(override=True)"
   ]
  },
  {
   "cell_type": "code",
   "execution_count": 3,
   "metadata": {},
   "outputs": [
    {
     "name": "stderr",
     "output_type": "stream",
     "text": [
      "\u001b[?2026h\u001b[?25l\u001b[1Gpulling manifest ⠋ \u001b[K\u001b[?25h\u001b[?2026l\u001b[?2026h\u001b[?25l\u001b[1Gpulling manifest ⠙ \u001b[K\u001b[?25h\u001b[?2026l\u001b[?2026h\u001b[?25l\u001b[1Gpulling manifest ⠹ \u001b[K\u001b[?25h\u001b[?2026l\u001b[?2026h\u001b[?25l\u001b[1Gpulling manifest ⠸ \u001b[K\u001b[?25h\u001b[?2026l\u001b[?2026h\u001b[?25l\u001b[1Gpulling manifest ⠼ \u001b[K\u001b[?25h\u001b[?2026l\u001b[?2026h\u001b[?25l\u001b[1Gpulling manifest ⠴ \u001b[K\u001b[?25h\u001b[?2026l\u001b[?2026h\u001b[?25l\u001b[1Gpulling manifest ⠦ \u001b[K\u001b[?25h\u001b[?2026l\u001b[?2026h\u001b[?25l\u001b[1Gpulling manifest ⠧ \u001b[K\u001b[?25h\u001b[?2026l\u001b[?2026h\u001b[?25l\u001b[1Gpulling manifest ⠇ \u001b[K\u001b[?25h\u001b[?2026l\u001b[?2026h\u001b[?25l\u001b[1Gpulling manifest ⠏ \u001b[K\u001b[?25h\u001b[?2026l\u001b[?2026h\u001b[?25l\u001b[1Gpulling manifest \u001b[K\n",
      "pulling dde5aa3fc5ff... 100% ▕████████████████▏ 2.0 GB                         \u001b[K\n",
      "pulling 966de95ca8a6... 100% ▕████████████████▏ 1.4 KB                         \u001b[K\n",
      "pulling fcc5a6bec9da... 100% ▕████████████████▏ 7.7 KB                         \u001b[K\n",
      "pulling a70ff7e570d9... 100% ▕████████████████▏ 6.0 KB                         \u001b[K\n",
      "pulling 56bb8bd477a5... 100% ▕████████████████▏   96 B                         \u001b[K\n",
      "pulling 34bb5ab01051... 100% ▕████████████████▏  561 B                         \u001b[K\n",
      "verifying sha256 digest \u001b[K\n",
      "writing manifest \u001b[K\n",
      "success \u001b[K\u001b[?25h\u001b[?2026l\n"
     ]
    }
   ],
   "source": [
    "!ollama pull llama3.2"
   ]
  },
  {
   "cell_type": "code",
   "execution_count": 4,
   "metadata": {},
   "outputs": [
    {
     "name": "stderr",
     "output_type": "stream",
     "text": [
      "\u001b[?2026h\u001b[?25l\u001b[1Gpulling manifest ⠋ \u001b[K\u001b[?25h\u001b[?2026l\u001b[?2026h\u001b[?25l\u001b[1Gpulling manifest ⠙ \u001b[K\u001b[?25h\u001b[?2026l\u001b[?2026h\u001b[?25l\u001b[1Gpulling manifest ⠹ \u001b[K\u001b[?25h\u001b[?2026l\u001b[?2026h\u001b[?25l\u001b[1Gpulling manifest ⠸ \u001b[K\u001b[?25h\u001b[?2026l\u001b[?2026h\u001b[?25l\u001b[1Gpulling manifest ⠼ \u001b[K\u001b[?25h\u001b[?2026l\u001b[?2026h\u001b[?25l\u001b[1Gpulling manifest ⠴ \u001b[K\u001b[?25h\u001b[?2026l\u001b[?2026h\u001b[?25l\u001b[1Gpulling manifest ⠦ \u001b[K\u001b[?25h\u001b[?2026l\u001b[?2026h\u001b[?25l\u001b[1Gpulling manifest \u001b[K\n",
      "pulling aeda25e63ebd... 100% ▕████████████████▏ 3.3 GB                         \u001b[K\n",
      "pulling e0a42594d802... 100% ▕████████████████▏  358 B                         \u001b[K\n",
      "pulling dd084c7d92a3... 100% ▕████████████████▏ 8.4 KB                         \u001b[K\n",
      "pulling 3116c5225075... 100% ▕████████████████▏   77 B                         \u001b[K\n",
      "pulling b6ae5839783f... 100% ▕████████████████▏  489 B                         \u001b[K\n",
      "verifying sha256 digest \u001b[K\n",
      "writing manifest \u001b[K\n",
      "success \u001b[K\u001b[?25h\u001b[?2026l\n"
     ]
    }
   ],
   "source": [
    "!ollama pull gemma3"
   ]
  },
  {
   "cell_type": "code",
   "execution_count": 5,
   "metadata": {},
   "outputs": [
    {
     "name": "stdout",
     "output_type": "stream",
     "text": [
      "OpenAI API Key exists and begins sk-proj-\n"
     ]
    }
   ],
   "source": [
    "openai_api_key = os.getenv(\"OPENAI_API_KEY\")\n",
    "if openai_api_key:\n",
    "    print(f\"OpenAI API Key exists and begins {openai_api_key[:8]}\")\n",
    "else:\n",
    "    print(\"OpenAI API Key not set\")"
   ]
  },
  {
   "cell_type": "code",
   "execution_count": 11,
   "metadata": {},
   "outputs": [],
   "source": [
    "instructions1 = \"You are an artificial intelligence tutor. You write trivias about artificial intelligence.\"\n",
    "instructions2 = \"You are a humorous, engaging artificial intelligence tutor. You write trivias about artificial intelligence and make jokes about it.\""
   ]
  },
  {
   "cell_type": "code",
   "execution_count": null,
   "metadata": {},
   "outputs": [],
   "source": [
    "LLAMA_BASE_URL = 'http://localhost:11434/v1'\n",
    "\n",
    "llama_client = AsyncOpenAI(base_url=LLAMA_BASE_URL, api_key=\"ollama\")\n",
    "\n",
    "llama_model = OpenAIChatCompletionsModel(model=\"llama3.2\", openai_client=llama_client)\n",
    "gemma_model = OpenAIChatCompletionsModel(model=\"gemma3\", openai_client=llama_client)"
   ]
  },
  {
   "cell_type": "code",
   "execution_count": 10,
   "metadata": {},
   "outputs": [],
   "source": [
    "ai_tutor1 = Agent(\"Llama AI Tutor\", instructions=instructions1, model=llama_model)\n",
    "ai_tutor2 = Agent(\"Gemma AI Tutor\", instructions=instructions2, model=gemma_model)"
   ]
  },
  {
   "cell_type": "code",
   "execution_count": 12,
   "metadata": {},
   "outputs": [],
   "source": [
    "description = \"Write a trivia about artificial intelligence\"\n",
    "\n",
    "tool1 = ai_tutor1.as_tool(tool_name=\"ai_tutor1\", tool_description=description)\n",
    "tool2 = ai_tutor2.as_tool(tool_name=\"ai_tutor2\", tool_description=description)"
   ]
  },
  {
   "cell_type": "code",
   "execution_count": 13,
   "metadata": {},
   "outputs": [],
   "source": [
    "@function_tool\n",
    "def send_telegram_message(body: str):\n",
    "    \"\"\" Send a message with the given body to all readers. \"\"\"\n",
    "    url = f\"https://api.telegram.org/bot{telegram_bot_token}/sendMessage\"\n",
    "    payload = {\"chat_id\": chat_id, \"text\": body}\n",
    "    try:\n",
    "        response = requests.post(url, data=payload)\n",
    "        if response.status_code == 200:\n",
    "            print(\"Notification sent successfully!\")\n",
    "        else:\n",
    "            print(\"Failed to send the message:\", response.text)\n",
    "    except Exception as e:\n",
    "        print(\"Error sending Telegram message:\", e)"
   ]
  },
  {
   "cell_type": "code",
   "execution_count": 17,
   "metadata": {},
   "outputs": [],
   "source": [
    "check_instructions = \"You can check if the given message is true or not. \\\n",
    "You are given a message and you need to check if the given message is true or not.\"\n",
    "\n",
    "\n",
    "trivia_checker = Agent(name=\"Trivia Checker\",\n",
    "                instructions=check_instructions)\n",
    "\n",
    "checker_tool = checker.as_tool(tool_name=\"trivia_checker\", tool_description=\"Check if the given trivia is true or not\")\n"
   ]
  },
  {
   "cell_type": "code",
   "execution_count": 16,
   "metadata": {},
   "outputs": [],
   "source": [
    "trivia_tools = [checker_tool, send_telegram_message]"
   ]
  },
  {
   "cell_type": "code",
   "execution_count": null,
   "metadata": {},
   "outputs": [],
   "source": [
    "instructions = \"You are an trivia checker and message sender. You receive the text of trivia to be send. \\\n",
    "    You first use the trivia_checker tool to check whether the given trivia is true or not, then use the send_telegram_message tool to send the message.\"\n",
    "\n",
    "trivia_agent = Agent(\n",
    "    name=\"Trivia Checker and sender\",\n",
    "    instructions=instructions,\n",
    "    tools=trivia_tools,\n",
    "    model=\"gpt-4o-mini\",\n",
    "    handoff_description=\"Check if the given trivia message is true or not and send the message.\"\n",
    ")"
   ]
  },
  {
   "cell_type": "code",
   "execution_count": 19,
   "metadata": {},
   "outputs": [],
   "source": [
    "tools = [tool1, tool2]\n",
    "handoffs = [trivia_agent]"
   ]
  },
  {
   "cell_type": "code",
   "execution_count": 21,
   "metadata": {},
   "outputs": [],
   "source": [
    "trivia_manager_instructions = \"You are a trivia manager. You use the tools given to you to generate trivias. \\\n",
    "    You never generate trivias yourself; you always use the tools. \\\n",
    "    You try all 2 agent tools at least once before choosing the best one. \\\n",
    "    You can use the tools multiple times if you're not satisfied with the results from the first try. \\\n",
    "    You select the single best trivia using your own judgement of which trivia will be most interesting. \\\n",
    "    After selecting the trivia, you handoff to the Trivia Checker and sender agent to check and sen the trivia message.\"\n",
    "\n",
    "trivia_manager = Agent(\n",
    "    name=\"Trivia Manager\",\n",
    "    instructions=trivia_manager_instructions,\n",
    "    tools=tools,\n",
    "    handoffs=handoffs,\n",
    "    model=\"gpt-4o-mini\"\n",
    ")\n",
    "\n",
    "message = \"Generate the trivia and send it as message.\"\n",
    "\n",
    "with trace(\"Trivia generator\"):\n",
    "    result = await Runner.run(trivia_manager, message)"
   ]
  }
 ],
 "metadata": {
  "kernelspec": {
   "display_name": ".venv",
   "language": "python",
   "name": "python3"
  },
  "language_info": {
   "codemirror_mode": {
    "name": "ipython",
    "version": 3
   },
   "file_extension": ".py",
   "mimetype": "text/x-python",
   "name": "python",
   "nbconvert_exporter": "python",
   "pygments_lexer": "ipython3",
   "version": "3.12.4"
  }
 },
 "nbformat": 4,
 "nbformat_minor": 2
}
