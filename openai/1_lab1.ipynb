{
 "cells": [
  {
   "cell_type": "code",
   "execution_count": 1,
   "metadata": {},
   "outputs": [],
   "source": [
    "from dotenv import load_dotenv\n",
    "from agents import Agent, Runner, trace"
   ]
  },
  {
   "cell_type": "code",
   "execution_count": 2,
   "metadata": {},
   "outputs": [
    {
     "data": {
      "text/plain": [
       "True"
      ]
     },
     "execution_count": 2,
     "metadata": {},
     "output_type": "execute_result"
    }
   ],
   "source": [
    "load_dotenv(override=True)"
   ]
  },
  {
   "cell_type": "code",
   "execution_count": 3,
   "metadata": {},
   "outputs": [],
   "source": [
    "agent = Agent(name=\"Sebastian\", instructions=\"You are a trivia teller\", model=\"gpt-4o-mini\")"
   ]
  },
  {
   "cell_type": "code",
   "execution_count": 8,
   "metadata": {},
   "outputs": [
    {
     "name": "stdout",
     "output_type": "stream",
     "text": [
      "<coroutine object Runner.run at 0x00000180F3FBEEC0>\n"
     ]
    }
   ],
   "source": [
    "with trace(\"Giving trivia\"):\n",
    "    result = Runner.run(agent, \"Give me a trivia about machine learning.\")\n",
    "    print(result)"
   ]
  },
  {
   "cell_type": "markdown",
   "metadata": {},
   "source": [
    "It's a coroutine object. We have to run with await. "
   ]
  },
  {
   "cell_type": "code",
   "execution_count": 6,
   "metadata": {},
   "outputs": [
    {
     "name": "stdout",
     "output_type": "stream",
     "text": [
      "RunResult:\n",
      "- Last agent: Agent(name=\"Sebastian\", ...)\n",
      "- Final output (str):\n",
      "    Sure! Did you know that the term \"machine learning\" was coined by Arthur Samuel in 1959? He was a pioneer in the field and developed a program that allowed a computer to play checkers, which improved its performance over time through experience. This concept laid the groundwork for many modern machine learning techniques!\n",
      "- 1 new item(s)\n",
      "- 1 raw response(s)\n",
      "- 0 input guardrail result(s)\n",
      "- 0 output guardrail result(s)\n",
      "(See `RunResult` for more details)\n"
     ]
    }
   ],
   "source": [
    "with trace(\"Giving trivia\"):\n",
    "    result = await Runner.run(agent, \"Give me a trivia about machine learning.\")\n",
    "    print(result)"
   ]
  },
  {
   "cell_type": "code",
   "execution_count": 7,
   "metadata": {},
   "outputs": [
    {
     "name": "stdout",
     "output_type": "stream",
     "text": [
      "Sure! Did you know that one of the earliest instances of machine learning can be traced back to 1957, when Frank Rosenblatt developed the Perceptron? This was essentially a simple model of a neural network designed to recognize visual patterns. Although originally developed for image recognition, the principles of the Perceptron laid the groundwork for modern deep learning and neural networks, which are now fundamental to many AI applications today!\n"
     ]
    }
   ],
   "source": [
    "with trace(\"Giving trivia\"):\n",
    "    result = await Runner.run(agent, \"Give me a trivia about machine learning.\")\n",
    "    print(result.final_output)"
   ]
  }
 ],
 "metadata": {
  "kernelspec": {
   "display_name": ".venv",
   "language": "python",
   "name": "python3"
  },
  "language_info": {
   "codemirror_mode": {
    "name": "ipython",
    "version": 3
   },
   "file_extension": ".py",
   "mimetype": "text/x-python",
   "name": "python",
   "nbconvert_exporter": "python",
   "pygments_lexer": "ipython3",
   "version": "3.12.4"
  }
 },
 "nbformat": 4,
 "nbformat_minor": 2
}
